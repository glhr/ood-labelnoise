{
 "cells": [
  {
   "cell_type": "code",
   "execution_count": 16,
   "metadata": {},
   "outputs": [
    {
     "name": "stdout",
     "output_type": "stream",
     "text": [
      "                                       label\n",
      "filename                                    \n",
      "food-101/images/apple_pie/101251.jpg      -1\n",
      "food-101/images/apple_pie/1034399.jpg     -1\n",
      "food-101/images/apple_pie/103801.jpg      -1\n",
      "food-101/images/apple_pie/1038694.jpg     -1\n",
      "food-101/images/apple_pie/1047447.jpg     -1\n"
     ]
    }
   ],
   "source": [
    "import pandas as pd\n",
    "\n",
    "df = pd.read_csv(\"meta/test.txt\")\n",
    "df.columns = [\"filename\"]\n",
    "\n",
    "\n",
    "\n",
    "df[\"label\"] = -1\n",
    "\n",
    "\n",
    "tf = lambda x: f\"food-101/images/{x}.jpg\"\n",
    "df[\"filename\"] = df[\"filename\"].apply(tf)\n",
    "\n",
    "df = df.set_index(\"filename\")\n",
    "\n",
    "print(df.head())\n",
    "\n",
    "df.to_csv(\"../../benchmark_imglist/food101/food101_test.txt\", sep=\" \", header=None)"
   ]
  },
  {
   "cell_type": "code",
   "execution_count": null,
   "metadata": {},
   "outputs": [],
   "source": []
  }
 ],
 "metadata": {
  "kernelspec": {
   "display_name": "Python 3 (ipykernel)",
   "language": "python",
   "name": "python3"
  },
  "language_info": {
   "codemirror_mode": {
    "name": "ipython",
    "version": 3
   },
   "file_extension": ".py",
   "mimetype": "text/x-python",
   "name": "python",
   "nbconvert_exporter": "python",
   "pygments_lexer": "ipython3",
   "version": "3.9.15"
  }
 },
 "nbformat": 4,
 "nbformat_minor": 4
}
