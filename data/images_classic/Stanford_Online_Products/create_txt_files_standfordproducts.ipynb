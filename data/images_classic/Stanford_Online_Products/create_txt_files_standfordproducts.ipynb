{
 "cells": [
  {
   "cell_type": "code",
   "execution_count": 9,
   "id": "20eae404-afe5-48f2-80a8-35f2ab9f2a8f",
   "metadata": {},
   "outputs": [],
   "source": [
    "import glob\n",
    "import pandas as pd\n",
    "import numpy as np\n",
    "\n",
    "np.random.seed(0)\n",
    "\n",
    "classes = [\"stapler\",\"toaster\",\"coffee_maker\",\"cabinet\",\"fan\",\"kettle\"]\n",
    "\n",
    "list_of_dicts = []\n",
    "\n",
    "for cls in classes:\n",
    "    paths = glob.glob(f\"{cls}_final/*.JPG\")\n",
    "    random_idx = np.random.choice(range(len(paths)),1000)\n",
    "    paths_selected =  [paths[i] for i in random_idx]\n",
    "    for path in paths_selected:\n",
    "        list_of_dicts.append({\n",
    "            'filename': f\"Stanford_Online_Products/{path}\",\n",
    "            'label': -1\n",
    "        })\n",
    "        \n",
    "\n",
    "df = pd.DataFrame(list_of_dicts)\n",
    "df = df.set_index('filename')\n",
    "df.to_csv(\"../../benchmark_imglist/stanfordproducts/stanfordproducts_test_ood.txt\", header=None, sep=\" \")\n",
    "\n"
   ]
  },
  {
   "cell_type": "code",
   "execution_count": null,
   "id": "4c2091f9-58bd-4464-8015-c6e45c77e52e",
   "metadata": {},
   "outputs": [],
   "source": []
  }
 ],
 "metadata": {
  "kernelspec": {
   "display_name": "Python 3 (ipykernel)",
   "language": "python",
   "name": "python3"
  },
  "language_info": {
   "codemirror_mode": {
    "name": "ipython",
    "version": 3
   },
   "file_extension": ".py",
   "mimetype": "text/x-python",
   "name": "python",
   "nbconvert_exporter": "python",
   "pygments_lexer": "ipython3",
   "version": "3.9.15"
  }
 },
 "nbformat": 4,
 "nbformat_minor": 5
}
