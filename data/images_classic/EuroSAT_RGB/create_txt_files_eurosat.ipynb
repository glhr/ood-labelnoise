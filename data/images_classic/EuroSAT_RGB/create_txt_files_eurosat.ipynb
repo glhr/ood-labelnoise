{
 "cells": [
  {
   "cell_type": "code",
   "execution_count": 3,
   "id": "2ee4378a-34d4-4a7e-aea9-882284a03a77",
   "metadata": {},
   "outputs": [
    {
     "name": "stdout",
     "output_type": "stream",
     "text": [
      "['AnnualCrop/', 'Forest/', 'HerbaceousVegetation/', 'Highway/', 'Industrial/', 'Pasture/', 'PermanentCrop/', 'Residential/', 'River/', 'SeaLake/']\n"
     ]
    }
   ],
   "source": [
    "import glob\n",
    "import pandas as pd\n",
    "import numpy as np\n",
    "\n",
    "np.random.seed(0)\n",
    "\n",
    "classes = glob.glob(\"*/\")\n",
    "print(classes)\n",
    "\n",
    "list_of_dicts = []\n",
    "\n",
    "for cls in classes:\n",
    "    paths = glob.glob(f\"{cls}/*.jpg\")\n",
    "    random_idx = np.random.choice(range(len(paths)),1000)\n",
    "    paths_selected =  [paths[i] for i in random_idx]\n",
    "    for path in paths_selected:\n",
    "        list_of_dicts.append({\n",
    "            'filename': f\"EuroSAT_RGB/{path}\",\n",
    "            'label': -1\n",
    "        })\n",
    "        \n",
    "\n",
    "df = pd.DataFrame(list_of_dicts)\n",
    "df = df.set_index('filename')\n",
    "df.to_csv(\"../../benchmark_imglist/eurosat/eurosat_test_ood.txt\", header=None, sep=\" \")"
   ]
  },
  {
   "cell_type": "code",
   "execution_count": null,
   "id": "2a57207e-991e-4bf9-8730-b93a5daa6388",
   "metadata": {},
   "outputs": [],
   "source": []
  }
 ],
 "metadata": {
  "kernelspec": {
   "display_name": "Python 3 (ipykernel)",
   "language": "python",
   "name": "python3"
  },
  "language_info": {
   "codemirror_mode": {
    "name": "ipython",
    "version": 3
   },
   "file_extension": ".py",
   "mimetype": "text/x-python",
   "name": "python",
   "nbconvert_exporter": "python",
   "pygments_lexer": "ipython3",
   "version": "3.9.15"
  }
 },
 "nbformat": 4,
 "nbformat_minor": 5
}
